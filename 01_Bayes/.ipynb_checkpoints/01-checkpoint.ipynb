{
 "cells": [
  {
   "cell_type": "code",
   "execution_count": 17,
   "id": "af02925d",
   "metadata": {},
   "outputs": [],
   "source": [
    "import numpy as np\n",
    "from tqdm import tqdm"
   ]
  },
  {
   "cell_type": "markdown",
   "id": "fee68c7e",
   "metadata": {},
   "source": [
    "Логіка невизначеності\n",
    "\n",
    "Вірогідність вимірюється в межах від 0 до 1"
   ]
  },
  {
   "cell_type": "markdown",
   "id": "27fb436a",
   "metadata": {},
   "source": [
    "1. В статистиці & використовується коли мова йде про вірогідність одночасної події:\n",
    "- викинути 3 на кубіку і решку на монетці\n",
    "- забути зонтик і попасти під дощ\n",
    "- виграти в лотерею і отримати удар блискавкою"
   ]
  },
  {
   "cell_type": "markdown",
   "id": "c222e9aa",
   "metadata": {},
   "source": [
    "Вирахуємо спільну вірогідність.\n",
    "- попробуємо визначити вірогідність викинути орела і цифри 5 на купибку при киданні монетки і кубіка\n",
    "- P(орел) = 1/2 ; P(п'ятірка)=1/6\n",
    "- Яка вірогідність P(орел, п'ятірка) = ?"
   ]
  },
  {
   "cell_type": "markdown",
   "id": "793b50fc",
   "metadata": {},
   "source": [
    "Ми можемо визначити всі можливі варіанти і порахувати скільки з них нам потрібно."
   ]
  },
  {
   "cell_type": "markdown",
   "id": "65dc5930",
   "metadata": {},
   "source": [
    "1. Орел - 1\n",
    "2. Орел - 2\n",
    "3. Орел - 3\n",
    "4. Орел - 4\n",
    "5. Орел - 5\n",
    "6. Орел - 6\n",
    "7. Решка - 1\n",
    "8. Решка - 2\n",
    "9. Решка - 3\n",
    "10. Решка - 4\n",
    "11. Решка - 5\n",
    "12. Решка - 6\n",
    "\n",
    "Тобто всіх можливих варіантів є 12 а нам підходить лише 1. Тому отримуємо імовірність P(орел, п'ятірка) = 1/12"
   ]
  },
  {
   "cell_type": "markdown",
   "id": "3d6b27ec",
   "metadata": {},
   "source": [
    "Перевіримо це симуляцією"
   ]
  },
  {
   "cell_type": "code",
   "execution_count": 40,
   "id": "08066100",
   "metadata": {},
   "outputs": [
    {
     "name": "stderr",
     "output_type": "stream",
     "text": [
      "100%|██████████████████████████████| 1000000/1000000 [00:25<00:00, 39251.90it/s]\n"
     ]
    }
   ],
   "source": [
    "n = 1000000\n",
    "result_lst = []\n",
    "predict = ['Орел', 5]\n",
    "for i in tqdm(range(n)):\n",
    "    lst = []\n",
    "    coin = np.random.choice(['Орел', 'Решка'], p=[0.5, 0.5])\n",
    "    lst.append(coin)\n",
    "    \n",
    "    cube = np.random.choice([1,2,3,4,5,6])\n",
    "    lst.append(cube)\n",
    "    \n",
    "    if lst == predict:\n",
    "        result_lst.append(1)\n",
    "    else:\n",
    "        result_lst.append(0)"
   ]
  },
  {
   "cell_type": "code",
   "execution_count": 41,
   "id": "5e7a943f",
   "metadata": {},
   "outputs": [
    {
     "data": {
      "text/plain": [
       "0.083903"
      ]
     },
     "execution_count": 41,
     "metadata": {},
     "output_type": "execute_result"
    }
   ],
   "source": [
    "np.mean(result_lst)"
   ]
  },
  {
   "cell_type": "code",
   "execution_count": 42,
   "id": "c3dbf78c",
   "metadata": {},
   "outputs": [
    {
     "data": {
      "text/plain": [
       "0.08333333333333333"
      ]
     },
     "execution_count": 42,
     "metadata": {},
     "output_type": "execute_result"
    }
   ],
   "source": [
    "1/12"
   ]
  },
  {
   "cell_type": "markdown",
   "id": "46e57265",
   "metadata": {},
   "source": [
    "### Правило множення вірогідності !"
   ]
  },
  {
   "cell_type": "markdown",
   "id": "7d8d7148",
   "metadata": {},
   "source": [
    "P(A,B) = P(A) x P(B) - Коли ми хочемо визначити спільну ймовірність з логічним оператором &, то ймовірність двох чи більше подій буде дорівнювати добутку ймовірностей цих подій"
   ]
  },
  {
   "cell_type": "markdown",
   "id": "0a5fe2f8",
   "metadata": {},
   "source": [
    "Як порахувати вірогідність подій P(P(A,B),C)?\n"
   ]
  },
  {
   "cell_type": "markdown",
   "id": "355ca52b",
   "metadata": {},
   "source": [
    "P(P(A,B),C) = P(A) x P(B) x P(C)"
   ]
  },
  {
   "cell_type": "markdown",
   "id": "efb169dc",
   "metadata": {},
   "source": [
    "Яка ймовірність запізнитись якщо P(затримки трамвая) = 0.15, P(затримки маршрутки) = 0.2. Якщо один не приїде то другим ми зможемо добратись і тільки коли 2 неприїдуть ми хапізнимось"
   ]
  },
  {
   "cell_type": "markdown",
   "id": "eadf856d",
   "metadata": {},
   "source": [
    "P(затримки трамвая,затримки маршрутки) = 0.15 х 0.2"
   ]
  },
  {
   "cell_type": "code",
   "execution_count": 47,
   "id": "6f55e2c7",
   "metadata": {},
   "outputs": [
    {
     "name": "stdout",
     "output_type": "stream",
     "text": [
      "P(затримки трамвая,затримки маршрутки) = 0.15 х 0.2 = 3.0%\n"
     ]
    }
   ],
   "source": [
    "print(f'P(затримки трамвая,затримки маршрутки) = 0.15 х 0.2 = {.15*0.2*100}%')"
   ]
  },
  {
   "cell_type": "markdown",
   "id": "3352f72e",
   "metadata": {},
   "source": [
    "### Ймовірність і оператор OR"
   ]
  },
  {
   "cell_type": "markdown",
   "id": "5e851014",
   "metadata": {},
   "source": [
    "2. В статистиці or використовується коли мова йде про ймовірність однієї або іншої події враховуючи кейс що вони можуть бути і взаємовиключаючимись і ні:\n",
    "- захворіти грипом OR простудою\n",
    "- викинути орла на монетці OR 5 на кубіку\n",
    "- пробити колесо & бензину не хватить"
   ]
  },
  {
   "cell_type": "markdown",
   "id": "874b1c25",
   "metadata": {},
   "source": [
    "Зваємовиключні події це якщо відбулось одне то інше не може відбутись. Наприклад з одного підкидання монетки не можна отримати і орел і решку, а тільки щось одне"
   ]
  },
  {
   "cell_type": "markdown",
   "id": "89ce0483",
   "metadata": {},
   "source": [
    "Але є кейс коли бейсбольний матч можуть відмінити якщо буде дощ або якщо захворіє тренер. І тут можливо як і кожен з варіантів так і те що і тренер захворів і дощ йде."
   ]
  },
  {
   "cell_type": "markdown",
   "id": "8569770e",
   "metadata": {},
   "source": [
    "### OR для взаємовиключних подій"
   ]
  },
  {
   "cell_type": "code",
   "execution_count": null,
   "id": "fe8bf83a",
   "metadata": {},
   "outputs": [],
   "source": []
  }
 ],
 "metadata": {
  "kernelspec": {
   "display_name": "Python 3 (ipykernel)",
   "language": "python",
   "name": "python3"
  },
  "language_info": {
   "codemirror_mode": {
    "name": "ipython",
    "version": 3
   },
   "file_extension": ".py",
   "mimetype": "text/x-python",
   "name": "python",
   "nbconvert_exporter": "python",
   "pygments_lexer": "ipython3",
   "version": "3.10.10"
  }
 },
 "nbformat": 4,
 "nbformat_minor": 5
}
