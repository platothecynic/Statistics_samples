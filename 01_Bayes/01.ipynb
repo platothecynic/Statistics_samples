{
 "cells": [
  {
   "cell_type": "code",
   "execution_count": 17,
   "id": "35430119",
   "metadata": {},
   "outputs": [],
   "source": [
    "import numpy as np\n",
    "from tqdm import tqdm"
   ]
  },
  {
   "cell_type": "markdown",
   "id": "f16b2979",
   "metadata": {},
   "source": [
    "Логіка невизначеності\n",
    "\n",
    "Вірогідність вимірюється в межах від 0 до 1"
   ]
  },
  {
   "cell_type": "markdown",
   "id": "3b1165aa",
   "metadata": {},
   "source": [
    "1. В статистиці & використовується коли мова йде про вірогідність одночасної події:\n",
    "- викинути 3 на кубіку і решку на монетці\n",
    "- забути зонтик і попасти під дощ\n",
    "- виграти в лотерею і отримати удар блискавкою"
   ]
  },
  {
   "cell_type": "markdown",
   "id": "4287cf17",
   "metadata": {},
   "source": [
    "Вирахуємо спільну вірогідність.\n",
    "- попробуємо визначити вірогідність викинути орела і цифри 5 на купибку при киданні монетки і кубіка\n",
    "- P(орел) = 1/2 ; P(п'ятірка)=1/6\n",
    "- Яка вірогідність P(орел, п'ятірка) = ?"
   ]
  },
  {
   "cell_type": "code",
   "execution_count": 36,
   "id": "65f18d95",
   "metadata": {},
   "outputs": [
    {
     "name": "stderr",
     "output_type": "stream",
     "text": [
      "100%|██████████████████████████████| 1000000/1000000 [00:25<00:00, 38872.57it/s]\n"
     ]
    }
   ],
   "source": [
    "n = 1000000\n",
    "result_lst = []\n",
    "predict = ['Орел', 5]\n",
    "for i in tqdm(range(n)):\n",
    "    lst = []\n",
    "    coin = np.random.choice(['Орел', 'Решка'], p=[0.5, 0.5])\n",
    "    lst.append(coin)\n",
    "    \n",
    "    cube = np.random.choice([1,2,3,4,5,6])\n",
    "    lst.append(cube)\n",
    "    \n",
    "    if lst == predict:\n",
    "        result_lst.append(1)\n",
    "    else:\n",
    "        result_lst.append(0)"
   ]
  },
  {
   "cell_type": "code",
   "execution_count": 37,
   "id": "0298734b",
   "metadata": {},
   "outputs": [
    {
     "data": {
      "text/plain": [
       "0.083251"
      ]
     },
     "execution_count": 37,
     "metadata": {},
     "output_type": "execute_result"
    }
   ],
   "source": [
    "np.mean(result_lst)"
   ]
  },
  {
   "cell_type": "code",
   "execution_count": 38,
   "id": "6a1e9a24",
   "metadata": {},
   "outputs": [
    {
     "data": {
      "text/plain": [
       "0.08333333333333333"
      ]
     },
     "execution_count": 38,
     "metadata": {},
     "output_type": "execute_result"
    }
   ],
   "source": [
    "1/12"
   ]
  },
  {
   "cell_type": "markdown",
   "id": "387dfcbe",
   "metadata": {},
   "source": [
    "бо 1/2 * 1/6 = 1/12"
   ]
  },
  {
   "cell_type": "code",
   "execution_count": null,
   "id": "9d638c14",
   "metadata": {},
   "outputs": [],
   "source": []
  }
 ],
 "metadata": {
  "kernelspec": {
   "display_name": "Python 3 (ipykernel)",
   "language": "python",
   "name": "python3"
  },
  "language_info": {
   "codemirror_mode": {
    "name": "ipython",
    "version": 3
   },
   "file_extension": ".py",
   "mimetype": "text/x-python",
   "name": "python",
   "nbconvert_exporter": "python",
   "pygments_lexer": "ipython3",
   "version": "3.10.10"
  }
 },
 "nbformat": 4,
 "nbformat_minor": 5
}
